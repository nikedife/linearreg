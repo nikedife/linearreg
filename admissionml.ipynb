{
 "cells": [
  {
   "cell_type": "code",
   "execution_count": 1,
   "id": "b56e9759",
   "metadata": {},
   "outputs": [],
   "source": [
    "import pandas as pd\n",
    "import numpy as np\n",
    "import seaborn as sns\n",
    "import matplotlib.pyplot as plt\n",
    "%matplotlib inline\n",
    "from sklearn.linear_model import LinearRegression\n",
    "from sklearn.metrics import mean_absolute_error,mean_squared_error\n",
    "from sklearn.model_selection import train_test_split\n",
    "from sklearn.preprocessing import StandardScaler\n",
    "import pickle"
   ]
  },
  {
   "cell_type": "code",
   "execution_count": 2,
   "id": "06b1c169",
   "metadata": {},
   "outputs": [
    {
     "data": {
      "text/html": [
       "<div>\n",
       "<style scoped>\n",
       "    .dataframe tbody tr th:only-of-type {\n",
       "        vertical-align: middle;\n",
       "    }\n",
       "\n",
       "    .dataframe tbody tr th {\n",
       "        vertical-align: top;\n",
       "    }\n",
       "\n",
       "    .dataframe thead th {\n",
       "        text-align: right;\n",
       "    }\n",
       "</style>\n",
       "<table border=\"1\" class=\"dataframe\">\n",
       "  <thead>\n",
       "    <tr style=\"text-align: right;\">\n",
       "      <th></th>\n",
       "      <th>Serial No.</th>\n",
       "      <th>GRE Score</th>\n",
       "      <th>TOEFL Score</th>\n",
       "      <th>University Rating</th>\n",
       "      <th>SOP</th>\n",
       "      <th>LOR</th>\n",
       "      <th>CGPA</th>\n",
       "      <th>Research</th>\n",
       "      <th>Chance of Admit</th>\n",
       "    </tr>\n",
       "  </thead>\n",
       "  <tbody>\n",
       "    <tr>\n",
       "      <th>0</th>\n",
       "      <td>1</td>\n",
       "      <td>337.0</td>\n",
       "      <td>118.0</td>\n",
       "      <td>4.0</td>\n",
       "      <td>4.5</td>\n",
       "      <td>4.5</td>\n",
       "      <td>9.65</td>\n",
       "      <td>1</td>\n",
       "      <td>0.92</td>\n",
       "    </tr>\n",
       "    <tr>\n",
       "      <th>1</th>\n",
       "      <td>2</td>\n",
       "      <td>324.0</td>\n",
       "      <td>107.0</td>\n",
       "      <td>4.0</td>\n",
       "      <td>4.0</td>\n",
       "      <td>4.5</td>\n",
       "      <td>8.87</td>\n",
       "      <td>1</td>\n",
       "      <td>0.76</td>\n",
       "    </tr>\n",
       "    <tr>\n",
       "      <th>2</th>\n",
       "      <td>3</td>\n",
       "      <td>NaN</td>\n",
       "      <td>104.0</td>\n",
       "      <td>3.0</td>\n",
       "      <td>3.0</td>\n",
       "      <td>3.5</td>\n",
       "      <td>8.00</td>\n",
       "      <td>1</td>\n",
       "      <td>0.72</td>\n",
       "    </tr>\n",
       "    <tr>\n",
       "      <th>3</th>\n",
       "      <td>4</td>\n",
       "      <td>322.0</td>\n",
       "      <td>110.0</td>\n",
       "      <td>3.0</td>\n",
       "      <td>3.5</td>\n",
       "      <td>2.5</td>\n",
       "      <td>8.67</td>\n",
       "      <td>1</td>\n",
       "      <td>0.80</td>\n",
       "    </tr>\n",
       "    <tr>\n",
       "      <th>4</th>\n",
       "      <td>5</td>\n",
       "      <td>314.0</td>\n",
       "      <td>103.0</td>\n",
       "      <td>2.0</td>\n",
       "      <td>2.0</td>\n",
       "      <td>3.0</td>\n",
       "      <td>8.21</td>\n",
       "      <td>0</td>\n",
       "      <td>0.65</td>\n",
       "    </tr>\n",
       "  </tbody>\n",
       "</table>\n",
       "</div>"
      ],
      "text/plain": [
       "   Serial No.  GRE Score  TOEFL Score  University Rating  SOP  LOR  CGPA  \\\n",
       "0           1      337.0        118.0                4.0  4.5  4.5  9.65   \n",
       "1           2      324.0        107.0                4.0  4.0  4.5  8.87   \n",
       "2           3        NaN        104.0                3.0  3.0  3.5  8.00   \n",
       "3           4      322.0        110.0                3.0  3.5  2.5  8.67   \n",
       "4           5      314.0        103.0                2.0  2.0  3.0  8.21   \n",
       "\n",
       "   Research  Chance of Admit  \n",
       "0         1             0.92  \n",
       "1         1             0.76  \n",
       "2         1             0.72  \n",
       "3         1             0.80  \n",
       "4         0             0.65  "
      ]
     },
     "execution_count": 2,
     "metadata": {},
     "output_type": "execute_result"
    }
   ],
   "source": [
    "data = pd.read_csv('Admission_Prediction.csv')\n",
    "data.head()"
   ]
  },
  {
   "cell_type": "code",
   "execution_count": 3,
   "id": "70e859db",
   "metadata": {},
   "outputs": [
    {
     "data": {
      "text/html": [
       "<div>\n",
       "<style scoped>\n",
       "    .dataframe tbody tr th:only-of-type {\n",
       "        vertical-align: middle;\n",
       "    }\n",
       "\n",
       "    .dataframe tbody tr th {\n",
       "        vertical-align: top;\n",
       "    }\n",
       "\n",
       "    .dataframe thead th {\n",
       "        text-align: right;\n",
       "    }\n",
       "</style>\n",
       "<table border=\"1\" class=\"dataframe\">\n",
       "  <thead>\n",
       "    <tr style=\"text-align: right;\">\n",
       "      <th></th>\n",
       "      <th>Serial No.</th>\n",
       "      <th>GRE Score</th>\n",
       "      <th>TOEFL Score</th>\n",
       "      <th>University Rating</th>\n",
       "      <th>SOP</th>\n",
       "      <th>LOR</th>\n",
       "      <th>CGPA</th>\n",
       "      <th>Research</th>\n",
       "      <th>Chance of Admit</th>\n",
       "    </tr>\n",
       "  </thead>\n",
       "  <tbody>\n",
       "    <tr>\n",
       "      <th>count</th>\n",
       "      <td>500.000000</td>\n",
       "      <td>485.000000</td>\n",
       "      <td>490.000000</td>\n",
       "      <td>485.000000</td>\n",
       "      <td>500.000000</td>\n",
       "      <td>500.00000</td>\n",
       "      <td>500.000000</td>\n",
       "      <td>500.000000</td>\n",
       "      <td>500.00000</td>\n",
       "    </tr>\n",
       "    <tr>\n",
       "      <th>mean</th>\n",
       "      <td>250.500000</td>\n",
       "      <td>316.558763</td>\n",
       "      <td>107.187755</td>\n",
       "      <td>3.121649</td>\n",
       "      <td>3.374000</td>\n",
       "      <td>3.48400</td>\n",
       "      <td>8.576440</td>\n",
       "      <td>0.560000</td>\n",
       "      <td>0.72174</td>\n",
       "    </tr>\n",
       "    <tr>\n",
       "      <th>std</th>\n",
       "      <td>144.481833</td>\n",
       "      <td>11.274704</td>\n",
       "      <td>6.112899</td>\n",
       "      <td>1.146160</td>\n",
       "      <td>0.991004</td>\n",
       "      <td>0.92545</td>\n",
       "      <td>0.604813</td>\n",
       "      <td>0.496884</td>\n",
       "      <td>0.14114</td>\n",
       "    </tr>\n",
       "    <tr>\n",
       "      <th>min</th>\n",
       "      <td>1.000000</td>\n",
       "      <td>290.000000</td>\n",
       "      <td>92.000000</td>\n",
       "      <td>1.000000</td>\n",
       "      <td>1.000000</td>\n",
       "      <td>1.00000</td>\n",
       "      <td>6.800000</td>\n",
       "      <td>0.000000</td>\n",
       "      <td>0.34000</td>\n",
       "    </tr>\n",
       "    <tr>\n",
       "      <th>25%</th>\n",
       "      <td>125.750000</td>\n",
       "      <td>308.000000</td>\n",
       "      <td>103.000000</td>\n",
       "      <td>2.000000</td>\n",
       "      <td>2.500000</td>\n",
       "      <td>3.00000</td>\n",
       "      <td>8.127500</td>\n",
       "      <td>0.000000</td>\n",
       "      <td>0.63000</td>\n",
       "    </tr>\n",
       "    <tr>\n",
       "      <th>50%</th>\n",
       "      <td>250.500000</td>\n",
       "      <td>317.000000</td>\n",
       "      <td>107.000000</td>\n",
       "      <td>3.000000</td>\n",
       "      <td>3.500000</td>\n",
       "      <td>3.50000</td>\n",
       "      <td>8.560000</td>\n",
       "      <td>1.000000</td>\n",
       "      <td>0.72000</td>\n",
       "    </tr>\n",
       "    <tr>\n",
       "      <th>75%</th>\n",
       "      <td>375.250000</td>\n",
       "      <td>325.000000</td>\n",
       "      <td>112.000000</td>\n",
       "      <td>4.000000</td>\n",
       "      <td>4.000000</td>\n",
       "      <td>4.00000</td>\n",
       "      <td>9.040000</td>\n",
       "      <td>1.000000</td>\n",
       "      <td>0.82000</td>\n",
       "    </tr>\n",
       "    <tr>\n",
       "      <th>max</th>\n",
       "      <td>500.000000</td>\n",
       "      <td>340.000000</td>\n",
       "      <td>120.000000</td>\n",
       "      <td>5.000000</td>\n",
       "      <td>5.000000</td>\n",
       "      <td>5.00000</td>\n",
       "      <td>9.920000</td>\n",
       "      <td>1.000000</td>\n",
       "      <td>0.97000</td>\n",
       "    </tr>\n",
       "  </tbody>\n",
       "</table>\n",
       "</div>"
      ],
      "text/plain": [
       "       Serial No.   GRE Score  TOEFL Score  University Rating         SOP  \\\n",
       "count  500.000000  485.000000   490.000000         485.000000  500.000000   \n",
       "mean   250.500000  316.558763   107.187755           3.121649    3.374000   \n",
       "std    144.481833   11.274704     6.112899           1.146160    0.991004   \n",
       "min      1.000000  290.000000    92.000000           1.000000    1.000000   \n",
       "25%    125.750000  308.000000   103.000000           2.000000    2.500000   \n",
       "50%    250.500000  317.000000   107.000000           3.000000    3.500000   \n",
       "75%    375.250000  325.000000   112.000000           4.000000    4.000000   \n",
       "max    500.000000  340.000000   120.000000           5.000000    5.000000   \n",
       "\n",
       "             LOR        CGPA    Research  Chance of Admit  \n",
       "count  500.00000  500.000000  500.000000        500.00000  \n",
       "mean     3.48400    8.576440    0.560000          0.72174  \n",
       "std      0.92545    0.604813    0.496884          0.14114  \n",
       "min      1.00000    6.800000    0.000000          0.34000  \n",
       "25%      3.00000    8.127500    0.000000          0.63000  \n",
       "50%      3.50000    8.560000    1.000000          0.72000  \n",
       "75%      4.00000    9.040000    1.000000          0.82000  \n",
       "max      5.00000    9.920000    1.000000          0.97000  "
      ]
     },
     "execution_count": 3,
     "metadata": {},
     "output_type": "execute_result"
    }
   ],
   "source": [
    "data.describe()"
   ]
  },
  {
   "cell_type": "code",
   "execution_count": 4,
   "id": "9bfab304",
   "metadata": {},
   "outputs": [
    {
     "data": {
      "text/plain": [
       "(500, 9)"
      ]
     },
     "execution_count": 4,
     "metadata": {},
     "output_type": "execute_result"
    }
   ],
   "source": [
    "data.shape"
   ]
  },
  {
   "cell_type": "code",
   "execution_count": 5,
   "id": "b4df6c2e",
   "metadata": {},
   "outputs": [],
   "source": [
    "data['GRE Score'] = data['GRE Score'].fillna(data['GRE Score'].mean())"
   ]
  },
  {
   "cell_type": "code",
   "execution_count": 6,
   "id": "723d22b0",
   "metadata": {},
   "outputs": [],
   "source": [
    "data['TOEFL Score'] = data['TOEFL Score'].fillna(data['TOEFL Score'].mean())"
   ]
  },
  {
   "cell_type": "code",
   "execution_count": 7,
   "id": "26ad61e6",
   "metadata": {},
   "outputs": [],
   "source": [
    "data['University Rating'] = data['University Rating'].fillna(data['University Rating'].mode()[0])"
   ]
  },
  {
   "cell_type": "code",
   "execution_count": 8,
   "id": "146e5370",
   "metadata": {},
   "outputs": [
    {
     "data": {
      "text/html": [
       "<div>\n",
       "<style scoped>\n",
       "    .dataframe tbody tr th:only-of-type {\n",
       "        vertical-align: middle;\n",
       "    }\n",
       "\n",
       "    .dataframe tbody tr th {\n",
       "        vertical-align: top;\n",
       "    }\n",
       "\n",
       "    .dataframe thead th {\n",
       "        text-align: right;\n",
       "    }\n",
       "</style>\n",
       "<table border=\"1\" class=\"dataframe\">\n",
       "  <thead>\n",
       "    <tr style=\"text-align: right;\">\n",
       "      <th></th>\n",
       "      <th>Serial No.</th>\n",
       "      <th>GRE Score</th>\n",
       "      <th>TOEFL Score</th>\n",
       "      <th>University Rating</th>\n",
       "      <th>SOP</th>\n",
       "      <th>LOR</th>\n",
       "      <th>CGPA</th>\n",
       "      <th>Research</th>\n",
       "      <th>Chance of Admit</th>\n",
       "    </tr>\n",
       "  </thead>\n",
       "  <tbody>\n",
       "    <tr>\n",
       "      <th>count</th>\n",
       "      <td>500.000000</td>\n",
       "      <td>500.000000</td>\n",
       "      <td>500.000000</td>\n",
       "      <td>500.000000</td>\n",
       "      <td>500.000000</td>\n",
       "      <td>500.00000</td>\n",
       "      <td>500.000000</td>\n",
       "      <td>500.000000</td>\n",
       "      <td>500.00000</td>\n",
       "    </tr>\n",
       "    <tr>\n",
       "      <th>mean</th>\n",
       "      <td>250.500000</td>\n",
       "      <td>316.558763</td>\n",
       "      <td>107.187755</td>\n",
       "      <td>3.118000</td>\n",
       "      <td>3.374000</td>\n",
       "      <td>3.48400</td>\n",
       "      <td>8.576440</td>\n",
       "      <td>0.560000</td>\n",
       "      <td>0.72174</td>\n",
       "    </tr>\n",
       "    <tr>\n",
       "      <th>std</th>\n",
       "      <td>144.481833</td>\n",
       "      <td>11.103952</td>\n",
       "      <td>6.051338</td>\n",
       "      <td>1.128993</td>\n",
       "      <td>0.991004</td>\n",
       "      <td>0.92545</td>\n",
       "      <td>0.604813</td>\n",
       "      <td>0.496884</td>\n",
       "      <td>0.14114</td>\n",
       "    </tr>\n",
       "    <tr>\n",
       "      <th>min</th>\n",
       "      <td>1.000000</td>\n",
       "      <td>290.000000</td>\n",
       "      <td>92.000000</td>\n",
       "      <td>1.000000</td>\n",
       "      <td>1.000000</td>\n",
       "      <td>1.00000</td>\n",
       "      <td>6.800000</td>\n",
       "      <td>0.000000</td>\n",
       "      <td>0.34000</td>\n",
       "    </tr>\n",
       "    <tr>\n",
       "      <th>25%</th>\n",
       "      <td>125.750000</td>\n",
       "      <td>309.000000</td>\n",
       "      <td>103.000000</td>\n",
       "      <td>2.000000</td>\n",
       "      <td>2.500000</td>\n",
       "      <td>3.00000</td>\n",
       "      <td>8.127500</td>\n",
       "      <td>0.000000</td>\n",
       "      <td>0.63000</td>\n",
       "    </tr>\n",
       "    <tr>\n",
       "      <th>50%</th>\n",
       "      <td>250.500000</td>\n",
       "      <td>316.558763</td>\n",
       "      <td>107.000000</td>\n",
       "      <td>3.000000</td>\n",
       "      <td>3.500000</td>\n",
       "      <td>3.50000</td>\n",
       "      <td>8.560000</td>\n",
       "      <td>1.000000</td>\n",
       "      <td>0.72000</td>\n",
       "    </tr>\n",
       "    <tr>\n",
       "      <th>75%</th>\n",
       "      <td>375.250000</td>\n",
       "      <td>324.000000</td>\n",
       "      <td>112.000000</td>\n",
       "      <td>4.000000</td>\n",
       "      <td>4.000000</td>\n",
       "      <td>4.00000</td>\n",
       "      <td>9.040000</td>\n",
       "      <td>1.000000</td>\n",
       "      <td>0.82000</td>\n",
       "    </tr>\n",
       "    <tr>\n",
       "      <th>max</th>\n",
       "      <td>500.000000</td>\n",
       "      <td>340.000000</td>\n",
       "      <td>120.000000</td>\n",
       "      <td>5.000000</td>\n",
       "      <td>5.000000</td>\n",
       "      <td>5.00000</td>\n",
       "      <td>9.920000</td>\n",
       "      <td>1.000000</td>\n",
       "      <td>0.97000</td>\n",
       "    </tr>\n",
       "  </tbody>\n",
       "</table>\n",
       "</div>"
      ],
      "text/plain": [
       "       Serial No.   GRE Score  TOEFL Score  University Rating         SOP  \\\n",
       "count  500.000000  500.000000   500.000000         500.000000  500.000000   \n",
       "mean   250.500000  316.558763   107.187755           3.118000    3.374000   \n",
       "std    144.481833   11.103952     6.051338           1.128993    0.991004   \n",
       "min      1.000000  290.000000    92.000000           1.000000    1.000000   \n",
       "25%    125.750000  309.000000   103.000000           2.000000    2.500000   \n",
       "50%    250.500000  316.558763   107.000000           3.000000    3.500000   \n",
       "75%    375.250000  324.000000   112.000000           4.000000    4.000000   \n",
       "max    500.000000  340.000000   120.000000           5.000000    5.000000   \n",
       "\n",
       "             LOR        CGPA    Research  Chance of Admit  \n",
       "count  500.00000  500.000000  500.000000        500.00000  \n",
       "mean     3.48400    8.576440    0.560000          0.72174  \n",
       "std      0.92545    0.604813    0.496884          0.14114  \n",
       "min      1.00000    6.800000    0.000000          0.34000  \n",
       "25%      3.00000    8.127500    0.000000          0.63000  \n",
       "50%      3.50000    8.560000    1.000000          0.72000  \n",
       "75%      4.00000    9.040000    1.000000          0.82000  \n",
       "max      5.00000    9.920000    1.000000          0.97000  "
      ]
     },
     "execution_count": 8,
     "metadata": {},
     "output_type": "execute_result"
    }
   ],
   "source": [
    "data.describe()"
   ]
  },
  {
   "cell_type": "code",
   "execution_count": 9,
   "id": "41681506",
   "metadata": {},
   "outputs": [],
   "source": [
    "data.drop(columns=['Serial No.'],inplace=True)"
   ]
  },
  {
   "cell_type": "code",
   "execution_count": 10,
   "id": "9067ec80",
   "metadata": {},
   "outputs": [
    {
     "data": {
      "text/html": [
       "<div>\n",
       "<style scoped>\n",
       "    .dataframe tbody tr th:only-of-type {\n",
       "        vertical-align: middle;\n",
       "    }\n",
       "\n",
       "    .dataframe tbody tr th {\n",
       "        vertical-align: top;\n",
       "    }\n",
       "\n",
       "    .dataframe thead th {\n",
       "        text-align: right;\n",
       "    }\n",
       "</style>\n",
       "<table border=\"1\" class=\"dataframe\">\n",
       "  <thead>\n",
       "    <tr style=\"text-align: right;\">\n",
       "      <th></th>\n",
       "      <th>GRE Score</th>\n",
       "      <th>TOEFL Score</th>\n",
       "      <th>University Rating</th>\n",
       "      <th>SOP</th>\n",
       "      <th>LOR</th>\n",
       "      <th>CGPA</th>\n",
       "      <th>Research</th>\n",
       "      <th>Chance of Admit</th>\n",
       "    </tr>\n",
       "  </thead>\n",
       "  <tbody>\n",
       "    <tr>\n",
       "      <th>0</th>\n",
       "      <td>337.000000</td>\n",
       "      <td>118.0</td>\n",
       "      <td>4.0</td>\n",
       "      <td>4.5</td>\n",
       "      <td>4.5</td>\n",
       "      <td>9.65</td>\n",
       "      <td>1</td>\n",
       "      <td>0.92</td>\n",
       "    </tr>\n",
       "    <tr>\n",
       "      <th>1</th>\n",
       "      <td>324.000000</td>\n",
       "      <td>107.0</td>\n",
       "      <td>4.0</td>\n",
       "      <td>4.0</td>\n",
       "      <td>4.5</td>\n",
       "      <td>8.87</td>\n",
       "      <td>1</td>\n",
       "      <td>0.76</td>\n",
       "    </tr>\n",
       "    <tr>\n",
       "      <th>2</th>\n",
       "      <td>316.558763</td>\n",
       "      <td>104.0</td>\n",
       "      <td>3.0</td>\n",
       "      <td>3.0</td>\n",
       "      <td>3.5</td>\n",
       "      <td>8.00</td>\n",
       "      <td>1</td>\n",
       "      <td>0.72</td>\n",
       "    </tr>\n",
       "    <tr>\n",
       "      <th>3</th>\n",
       "      <td>322.000000</td>\n",
       "      <td>110.0</td>\n",
       "      <td>3.0</td>\n",
       "      <td>3.5</td>\n",
       "      <td>2.5</td>\n",
       "      <td>8.67</td>\n",
       "      <td>1</td>\n",
       "      <td>0.80</td>\n",
       "    </tr>\n",
       "    <tr>\n",
       "      <th>4</th>\n",
       "      <td>314.000000</td>\n",
       "      <td>103.0</td>\n",
       "      <td>2.0</td>\n",
       "      <td>2.0</td>\n",
       "      <td>3.0</td>\n",
       "      <td>8.21</td>\n",
       "      <td>0</td>\n",
       "      <td>0.65</td>\n",
       "    </tr>\n",
       "  </tbody>\n",
       "</table>\n",
       "</div>"
      ],
      "text/plain": [
       "    GRE Score  TOEFL Score  University Rating  SOP  LOR  CGPA  Research  \\\n",
       "0  337.000000        118.0                4.0  4.5  4.5  9.65         1   \n",
       "1  324.000000        107.0                4.0  4.0  4.5  8.87         1   \n",
       "2  316.558763        104.0                3.0  3.0  3.5  8.00         1   \n",
       "3  322.000000        110.0                3.0  3.5  2.5  8.67         1   \n",
       "4  314.000000        103.0                2.0  2.0  3.0  8.21         0   \n",
       "\n",
       "   Chance of Admit  \n",
       "0             0.92  \n",
       "1             0.76  \n",
       "2             0.72  \n",
       "3             0.80  \n",
       "4             0.65  "
      ]
     },
     "execution_count": 10,
     "metadata": {},
     "output_type": "execute_result"
    }
   ],
   "source": [
    "data.head()"
   ]
  },
  {
   "cell_type": "code",
   "execution_count": 11,
   "id": "b36d14ba",
   "metadata": {},
   "outputs": [],
   "source": [
    "X = data[['GRE Score','TOEFL Score','University Rating','SOP','LOR','CGPA','Research']]"
   ]
  },
  {
   "cell_type": "code",
   "execution_count": 12,
   "id": "890d3662",
   "metadata": {},
   "outputs": [
    {
     "data": {
      "text/html": [
       "<div>\n",
       "<style scoped>\n",
       "    .dataframe tbody tr th:only-of-type {\n",
       "        vertical-align: middle;\n",
       "    }\n",
       "\n",
       "    .dataframe tbody tr th {\n",
       "        vertical-align: top;\n",
       "    }\n",
       "\n",
       "    .dataframe thead th {\n",
       "        text-align: right;\n",
       "    }\n",
       "</style>\n",
       "<table border=\"1\" class=\"dataframe\">\n",
       "  <thead>\n",
       "    <tr style=\"text-align: right;\">\n",
       "      <th></th>\n",
       "      <th>GRE Score</th>\n",
       "      <th>TOEFL Score</th>\n",
       "      <th>University Rating</th>\n",
       "      <th>SOP</th>\n",
       "      <th>LOR</th>\n",
       "      <th>CGPA</th>\n",
       "      <th>Research</th>\n",
       "    </tr>\n",
       "  </thead>\n",
       "  <tbody>\n",
       "    <tr>\n",
       "      <th>0</th>\n",
       "      <td>337.000000</td>\n",
       "      <td>118.0</td>\n",
       "      <td>4.0</td>\n",
       "      <td>4.5</td>\n",
       "      <td>4.5</td>\n",
       "      <td>9.65</td>\n",
       "      <td>1</td>\n",
       "    </tr>\n",
       "    <tr>\n",
       "      <th>1</th>\n",
       "      <td>324.000000</td>\n",
       "      <td>107.0</td>\n",
       "      <td>4.0</td>\n",
       "      <td>4.0</td>\n",
       "      <td>4.5</td>\n",
       "      <td>8.87</td>\n",
       "      <td>1</td>\n",
       "    </tr>\n",
       "    <tr>\n",
       "      <th>2</th>\n",
       "      <td>316.558763</td>\n",
       "      <td>104.0</td>\n",
       "      <td>3.0</td>\n",
       "      <td>3.0</td>\n",
       "      <td>3.5</td>\n",
       "      <td>8.00</td>\n",
       "      <td>1</td>\n",
       "    </tr>\n",
       "    <tr>\n",
       "      <th>3</th>\n",
       "      <td>322.000000</td>\n",
       "      <td>110.0</td>\n",
       "      <td>3.0</td>\n",
       "      <td>3.5</td>\n",
       "      <td>2.5</td>\n",
       "      <td>8.67</td>\n",
       "      <td>1</td>\n",
       "    </tr>\n",
       "    <tr>\n",
       "      <th>4</th>\n",
       "      <td>314.000000</td>\n",
       "      <td>103.0</td>\n",
       "      <td>2.0</td>\n",
       "      <td>2.0</td>\n",
       "      <td>3.0</td>\n",
       "      <td>8.21</td>\n",
       "      <td>0</td>\n",
       "    </tr>\n",
       "    <tr>\n",
       "      <th>...</th>\n",
       "      <td>...</td>\n",
       "      <td>...</td>\n",
       "      <td>...</td>\n",
       "      <td>...</td>\n",
       "      <td>...</td>\n",
       "      <td>...</td>\n",
       "      <td>...</td>\n",
       "    </tr>\n",
       "    <tr>\n",
       "      <th>495</th>\n",
       "      <td>332.000000</td>\n",
       "      <td>108.0</td>\n",
       "      <td>5.0</td>\n",
       "      <td>4.5</td>\n",
       "      <td>4.0</td>\n",
       "      <td>9.02</td>\n",
       "      <td>1</td>\n",
       "    </tr>\n",
       "    <tr>\n",
       "      <th>496</th>\n",
       "      <td>337.000000</td>\n",
       "      <td>117.0</td>\n",
       "      <td>5.0</td>\n",
       "      <td>5.0</td>\n",
       "      <td>5.0</td>\n",
       "      <td>9.87</td>\n",
       "      <td>1</td>\n",
       "    </tr>\n",
       "    <tr>\n",
       "      <th>497</th>\n",
       "      <td>330.000000</td>\n",
       "      <td>120.0</td>\n",
       "      <td>5.0</td>\n",
       "      <td>4.5</td>\n",
       "      <td>5.0</td>\n",
       "      <td>9.56</td>\n",
       "      <td>1</td>\n",
       "    </tr>\n",
       "    <tr>\n",
       "      <th>498</th>\n",
       "      <td>312.000000</td>\n",
       "      <td>103.0</td>\n",
       "      <td>4.0</td>\n",
       "      <td>4.0</td>\n",
       "      <td>5.0</td>\n",
       "      <td>8.43</td>\n",
       "      <td>0</td>\n",
       "    </tr>\n",
       "    <tr>\n",
       "      <th>499</th>\n",
       "      <td>327.000000</td>\n",
       "      <td>113.0</td>\n",
       "      <td>4.0</td>\n",
       "      <td>4.5</td>\n",
       "      <td>4.5</td>\n",
       "      <td>9.04</td>\n",
       "      <td>0</td>\n",
       "    </tr>\n",
       "  </tbody>\n",
       "</table>\n",
       "<p>500 rows × 7 columns</p>\n",
       "</div>"
      ],
      "text/plain": [
       "      GRE Score  TOEFL Score  University Rating  SOP  LOR  CGPA  Research\n",
       "0    337.000000        118.0                4.0  4.5  4.5  9.65         1\n",
       "1    324.000000        107.0                4.0  4.0  4.5  8.87         1\n",
       "2    316.558763        104.0                3.0  3.0  3.5  8.00         1\n",
       "3    322.000000        110.0                3.0  3.5  2.5  8.67         1\n",
       "4    314.000000        103.0                2.0  2.0  3.0  8.21         0\n",
       "..          ...          ...                ...  ...  ...   ...       ...\n",
       "495  332.000000        108.0                5.0  4.5  4.0  9.02         1\n",
       "496  337.000000        117.0                5.0  5.0  5.0  9.87         1\n",
       "497  330.000000        120.0                5.0  4.5  5.0  9.56         1\n",
       "498  312.000000        103.0                4.0  4.0  5.0  8.43         0\n",
       "499  327.000000        113.0                4.0  4.5  4.5  9.04         0\n",
       "\n",
       "[500 rows x 7 columns]"
      ]
     },
     "execution_count": 12,
     "metadata": {},
     "output_type": "execute_result"
    }
   ],
   "source": [
    "X"
   ]
  },
  {
   "cell_type": "code",
   "execution_count": 13,
   "id": "e502f259",
   "metadata": {},
   "outputs": [],
   "source": [
    "y = data['Chance of Admit']"
   ]
  },
  {
   "cell_type": "code",
   "execution_count": 14,
   "id": "62594a06",
   "metadata": {},
   "outputs": [
    {
     "data": {
      "text/plain": [
       "0      0.92\n",
       "1      0.76\n",
       "2      0.72\n",
       "3      0.80\n",
       "4      0.65\n",
       "       ... \n",
       "495    0.87\n",
       "496    0.96\n",
       "497    0.93\n",
       "498    0.73\n",
       "499    0.84\n",
       "Name: Chance of Admit, Length: 500, dtype: float64"
      ]
     },
     "execution_count": 14,
     "metadata": {},
     "output_type": "execute_result"
    }
   ],
   "source": [
    "y"
   ]
  },
  {
   "cell_type": "code",
   "execution_count": 15,
   "id": "b375190c",
   "metadata": {},
   "outputs": [
    {
     "name": "stderr",
     "output_type": "stream",
     "text": [
      "C:\\Users\\SONY\\anaconda3\\lib\\site-packages\\seaborn\\distributions.py:2619: FutureWarning: `distplot` is a deprecated function and will be removed in a future version. Please adapt your code to use either `displot` (a figure-level function with similar flexibility) or `histplot` (an axes-level function for histograms).\n",
      "  warnings.warn(msg, FutureWarning)\n",
      "C:\\Users\\SONY\\anaconda3\\lib\\site-packages\\seaborn\\distributions.py:2619: FutureWarning: `distplot` is a deprecated function and will be removed in a future version. Please adapt your code to use either `displot` (a figure-level function with similar flexibility) or `histplot` (an axes-level function for histograms).\n",
      "  warnings.warn(msg, FutureWarning)\n",
      "C:\\Users\\SONY\\anaconda3\\lib\\site-packages\\seaborn\\distributions.py:2619: FutureWarning: `distplot` is a deprecated function and will be removed in a future version. Please adapt your code to use either `displot` (a figure-level function with similar flexibility) or `histplot` (an axes-level function for histograms).\n",
      "  warnings.warn(msg, FutureWarning)\n",
      "C:\\Users\\SONY\\anaconda3\\lib\\site-packages\\seaborn\\distributions.py:2619: FutureWarning: `distplot` is a deprecated function and will be removed in a future version. Please adapt your code to use either `displot` (a figure-level function with similar flexibility) or `histplot` (an axes-level function for histograms).\n",
      "  warnings.warn(msg, FutureWarning)\n",
      "C:\\Users\\SONY\\anaconda3\\lib\\site-packages\\seaborn\\distributions.py:2619: FutureWarning: `distplot` is a deprecated function and will be removed in a future version. Please adapt your code to use either `displot` (a figure-level function with similar flexibility) or `histplot` (an axes-level function for histograms).\n",
      "  warnings.warn(msg, FutureWarning)\n",
      "C:\\Users\\SONY\\anaconda3\\lib\\site-packages\\seaborn\\distributions.py:2619: FutureWarning: `distplot` is a deprecated function and will be removed in a future version. Please adapt your code to use either `displot` (a figure-level function with similar flexibility) or `histplot` (an axes-level function for histograms).\n",
      "  warnings.warn(msg, FutureWarning)\n"
     ]
    },
    {
     "data": {
      "image/png": "[encoded data removed]",
      "text/plain": [
       "<Figure size 1440x1440 with 6 Axes>"
      ]
     },
     "metadata": {},
     "output_type": "display_data"
    }
   ],
   "source": [
    "plt.figure(figsize=(20,20),facecolor='red')\n",
    "\n",
    "plotnumber = 1\n",
    "\n",
    "for column in data:\n",
    "    if plotnumber<=6:\n",
    "        plt.subplot(2,3,plotnumber)\n",
    "        sns.distplot(data[column])\n",
    "        plt.xlabel(column)\n",
    "        \n",
    "    plotnumber+=1\n",
    "    \n",
    "plt.tight_layout()    \n",
    "        "
   ]
  },
  {
   "cell_type": "code",
   "execution_count": 16,
   "id": "0a51ef20",
   "metadata": {},
   "outputs": [
    {
     "data": {
      "image/png": "[encoded data removed]",
      "text/plain": [
       "<Figure size 1440x1440 with 6 Axes>"
      ]
     },
     "metadata": {},
     "output_type": "display_data"
    }
   ],
   "source": [
    "plt.figure(figsize=(20,20),facecolor='red')\n",
    "\n",
    "plotnumber = 1\n",
    "\n",
    "for column in X:\n",
    "    if plotnumber<=6:\n",
    "        plt.subplot(2,3,plotnumber)\n",
    "        plt.scatter(X[column],y)\n",
    "        plt.xlabel(column)\n",
    "    \n",
    "        \n",
    "    plotnumber+=1\n",
    "    \n",
    "plt.tight_layout()   "
   ]
  },
  {
   "cell_type": "code",
   "execution_count": 17,
   "id": "eccd1f76",
   "metadata": {},
   "outputs": [],
   "source": [
    "scale = StandardScaler()\n"
   ]
  },
  {
   "cell_type": "code",
   "execution_count": 18,
   "id": "a13a0b2b",
   "metadata": {},
   "outputs": [
    {
     "data": {
      "text/plain": [
       "array([[ 1.84274116e+00,  1.78854223e+00,  7.82009548e-01, ...,\n",
       "         1.09894429e+00,  1.77680627e+00,  8.86405260e-01],\n",
       "       [ 6.70814288e-01, -3.10581135e-02,  7.82009548e-01, ...,\n",
       "         1.09894429e+00,  4.85859428e-01,  8.86405260e-01],\n",
       "       [ 5.12433309e-15, -5.27312752e-01, -1.04622593e-01, ...,\n",
       "         1.73062093e-02, -9.54042814e-01,  8.86405260e-01],\n",
       "       ...,\n",
       "       [ 1.21170361e+00,  2.11937866e+00,  1.66864169e+00, ...,\n",
       "         1.63976333e+00,  1.62785086e+00,  8.86405260e-01],\n",
       "       [-4.10964364e-01, -6.92730965e-01,  7.82009548e-01, ...,\n",
       "         1.63976333e+00, -2.42366993e-01, -1.12815215e+00],\n",
       "       [ 9.41258951e-01,  9.61451165e-01,  7.82009548e-01, ...,\n",
       "         1.09894429e+00,  7.67219636e-01, -1.12815215e+00]])"
      ]
     },
     "execution_count": 18,
     "metadata": {},
     "output_type": "execute_result"
    }
   ],
   "source": [
    "x_scale = scale.fit_transform(X)\n",
    "x_scale"
   ]
  },
  {
   "cell_type": "code",
   "execution_count": 19,
   "id": "c5be9b25",
   "metadata": {},
   "outputs": [],
   "source": [
    "x_train,x_test,y_train,y_test = train_test_split(x_scale,y,test_size=0.25,random_state=100)"
   ]
  },
  {
   "cell_type": "code",
   "execution_count": 20,
   "id": "e72d372f",
   "metadata": {},
   "outputs": [],
   "source": [
    "model = LinearRegression()"
   ]
  },
  {
   "cell_type": "code",
   "execution_count": 21,
   "id": "71e3d1c3",
   "metadata": {},
   "outputs": [
    {
     "data": {
      "text/plain": [
       "LinearRegression()"
      ]
     },
     "execution_count": 21,
     "metadata": {},
     "output_type": "execute_result"
    }
   ],
   "source": [
    "model.fit(x_train,y_train)"
   ]
  },
  {
   "cell_type": "code",
   "execution_count": 22,
   "id": "732f3ee8",
   "metadata": {},
   "outputs": [
    {
     "data": {
      "text/plain": [
       "array([0.86069475, 0.46961675, 0.62457559, 0.44427341, 0.64477075,\n",
       "       0.85868392, 0.58505459, 0.66825273, 0.81854538, 0.68171621,\n",
       "       0.66695132, 0.6130498 , 0.89289851, 0.75587611, 0.63710169,\n",
       "       0.50210475, 0.59088702, 0.74925169, 0.55648151, 0.7216039 ,\n",
       "       0.89836979, 0.61372014, 0.85046029, 0.82931438, 0.99434179,\n",
       "       0.60241927, 0.68864148, 0.93864892, 0.88106392, 0.7079722 ,\n",
       "       0.7878777 , 0.85197209, 0.75005243, 0.55035253, 0.7409322 ,\n",
       "       0.7846006 , 0.79476912, 0.57813961, 0.53270814, 0.70273382,\n",
       "       0.95035571, 0.59153554, 0.83491267, 0.7865929 , 0.81274368,\n",
       "       0.54137961, 0.59479607, 0.87886605, 0.95285581, 0.59818408,\n",
       "       0.81918166, 0.71389373, 0.80771306, 0.99224991, 0.64596821,\n",
       "       0.85748512, 0.61937012, 0.89966459, 0.77296661, 0.7386618 ,\n",
       "       0.68682328, 0.62638119, 0.47959271, 0.88440311, 0.65075526,\n",
       "       0.68517479, 0.70480878, 0.46160814, 0.84041637, 0.84586557,\n",
       "       0.9298679 , 0.77572697, 0.65973664, 0.83681099, 0.65357904,\n",
       "       0.77602172, 0.52848201, 0.74066514, 0.93952899, 0.94933344,\n",
       "       0.60971051, 0.66208776, 0.91113345, 0.63749229, 0.84936338,\n",
       "       0.80076777, 0.64486736, 0.58992992, 0.68095918, 0.60600511,\n",
       "       0.62478954, 0.58148364, 0.63954106, 0.95115418, 0.91891473,\n",
       "       0.76099163, 0.85197688, 0.75630593, 0.52319578, 0.83271623,\n",
       "       0.51419645, 0.5624681 , 0.93797467, 0.53434795, 0.57296638,\n",
       "       0.76984958, 0.61577619, 0.73422088, 0.57396284, 0.61478732,\n",
       "       0.49214699, 0.87033115, 0.78441416, 0.84407423, 0.61129866,\n",
       "       0.55322522, 0.69898464, 0.55444723, 0.50814898, 0.6470839 ,\n",
       "       0.89652922, 0.67695596, 0.50073554, 0.64162917, 0.72846599])"
      ]
     },
     "execution_count": 22,
     "metadata": {},
     "output_type": "execute_result"
    }
   ],
   "source": [
    "model.predict(x_test)"
   ]
  },
  {
   "cell_type": "code",
   "execution_count": 23,
   "id": "32e2a212",
   "metadata": {},
   "outputs": [
    {
     "data": {
      "text/plain": [
       "0.816838515195484"
      ]
     },
     "execution_count": 23,
     "metadata": {},
     "output_type": "execute_result"
    }
   ],
   "source": [
    "model.score(x_train,y_train)"
   ]
  },
  {
   "cell_type": "code",
   "execution_count": 24,
   "id": "be6e9ab4",
   "metadata": {},
   "outputs": [
    {
     "data": {
      "text/plain": [
       "0.8262805596865083"
      ]
     },
     "execution_count": 24,
     "metadata": {},
     "output_type": "execute_result"
    }
   ],
   "source": [
    "model.score(x_test,y_test)"
   ]
  },
  {
   "cell_type": "code",
   "execution_count": 25,
   "id": "c1d4748b",
   "metadata": {},
   "outputs": [
    {
     "data": {
      "text/html": [
       "<div>\n",
       "<style scoped>\n",
       "    .dataframe tbody tr th:only-of-type {\n",
       "        vertical-align: middle;\n",
       "    }\n",
       "\n",
       "    .dataframe tbody tr th {\n",
       "        vertical-align: top;\n",
       "    }\n",
       "\n",
       "    .dataframe thead th {\n",
       "        text-align: right;\n",
       "    }\n",
       "</style>\n",
       "<table border=\"1\" class=\"dataframe\">\n",
       "  <thead>\n",
       "    <tr style=\"text-align: right;\">\n",
       "      <th></th>\n",
       "      <th>GRE Score</th>\n",
       "      <th>TOEFL Score</th>\n",
       "      <th>University Rating</th>\n",
       "      <th>SOP</th>\n",
       "      <th>LOR</th>\n",
       "      <th>CGPA</th>\n",
       "      <th>Research</th>\n",
       "    </tr>\n",
       "  </thead>\n",
       "  <tbody>\n",
       "    <tr>\n",
       "      <th>498</th>\n",
       "      <td>312.0</td>\n",
       "      <td>103.0</td>\n",
       "      <td>4.0</td>\n",
       "      <td>4.0</td>\n",
       "      <td>5.0</td>\n",
       "      <td>8.43</td>\n",
       "      <td>0</td>\n",
       "    </tr>\n",
       "    <tr>\n",
       "      <th>499</th>\n",
       "      <td>327.0</td>\n",
       "      <td>113.0</td>\n",
       "      <td>4.0</td>\n",
       "      <td>4.5</td>\n",
       "      <td>4.5</td>\n",
       "      <td>9.04</td>\n",
       "      <td>0</td>\n",
       "    </tr>\n",
       "  </tbody>\n",
       "</table>\n",
       "</div>"
      ],
      "text/plain": [
       "     GRE Score  TOEFL Score  University Rating  SOP  LOR  CGPA  Research\n",
       "498      312.0        103.0                4.0  4.0  5.0  8.43         0\n",
       "499      327.0        113.0                4.0  4.5  4.5  9.04         0"
      ]
     },
     "execution_count": 25,
     "metadata": {},
     "output_type": "execute_result"
    }
   ],
   "source": [
    "X.tail(2)"
   ]
  },
  {
   "cell_type": "code",
   "execution_count": 26,
   "id": "6356c108",
   "metadata": {},
   "outputs": [
    {
     "data": {
      "text/html": [
       "<div>\n",
       "<style scoped>\n",
       "    .dataframe tbody tr th:only-of-type {\n",
       "        vertical-align: middle;\n",
       "    }\n",
       "\n",
       "    .dataframe tbody tr th {\n",
       "        vertical-align: top;\n",
       "    }\n",
       "\n",
       "    .dataframe thead th {\n",
       "        text-align: right;\n",
       "    }\n",
       "</style>\n",
       "<table border=\"1\" class=\"dataframe\">\n",
       "  <thead>\n",
       "    <tr style=\"text-align: right;\">\n",
       "      <th></th>\n",
       "      <th>GRE Score</th>\n",
       "      <th>TOEFL Score</th>\n",
       "      <th>University Rating</th>\n",
       "      <th>SOP</th>\n",
       "      <th>LOR</th>\n",
       "      <th>CGPA</th>\n",
       "      <th>Research</th>\n",
       "      <th>Chance of Admit</th>\n",
       "    </tr>\n",
       "  </thead>\n",
       "  <tbody>\n",
       "    <tr>\n",
       "      <th>498</th>\n",
       "      <td>312.0</td>\n",
       "      <td>103.0</td>\n",
       "      <td>4.0</td>\n",
       "      <td>4.0</td>\n",
       "      <td>5.0</td>\n",
       "      <td>8.43</td>\n",
       "      <td>0</td>\n",
       "      <td>0.73</td>\n",
       "    </tr>\n",
       "    <tr>\n",
       "      <th>499</th>\n",
       "      <td>327.0</td>\n",
       "      <td>113.0</td>\n",
       "      <td>4.0</td>\n",
       "      <td>4.5</td>\n",
       "      <td>4.5</td>\n",
       "      <td>9.04</td>\n",
       "      <td>0</td>\n",
       "      <td>0.84</td>\n",
       "    </tr>\n",
       "  </tbody>\n",
       "</table>\n",
       "</div>"
      ],
      "text/plain": [
       "     GRE Score  TOEFL Score  University Rating  SOP  LOR  CGPA  Research  \\\n",
       "498      312.0        103.0                4.0  4.0  5.0  8.43         0   \n",
       "499      327.0        113.0                4.0  4.5  4.5  9.04         0   \n",
       "\n",
       "     Chance of Admit  \n",
       "498             0.73  \n",
       "499             0.84  "
      ]
     },
     "execution_count": 26,
     "metadata": {},
     "output_type": "execute_result"
    }
   ],
   "source": [
    "data.tail(2)"
   ]
  },
  {
   "cell_type": "code",
   "execution_count": 27,
   "id": "9738494a",
   "metadata": {},
   "outputs": [
    {
     "data": {
      "text/plain": [
       "array([0.8187231])"
      ]
     },
     "execution_count": 27,
     "metadata": {},
     "output_type": "execute_result"
    }
   ],
   "source": [
    "model.predict(scale.transform([[327.0,113.0,4.0,4.5,4.5,9.04,0]]))"
   ]
  },
  {
   "cell_type": "code",
   "execution_count": 28,
   "id": "2607a642",
   "metadata": {},
   "outputs": [
    {
     "name": "stdout",
     "output_type": "stream",
     "text": [
      "[-0.41096436 -0.52731275 -0.10462259  0.12727117  0.01730621 -0.25891759\n",
      " -1.12815215]\n"
     ]
    }
   ],
   "source": [
    "print(x_train[0])"
   ]
  },
  {
   "cell_type": "code",
   "execution_count": 29,
   "id": "6a48428b",
   "metadata": {},
   "outputs": [
    {
     "data": {
      "text/plain": [
       "array([[-0.41096436, -0.52731275, -0.10462259, ...,  0.01730621,\n",
       "        -0.25891759, -1.12815215],\n",
       "       [ 0.12992496, -0.19647633, -0.10462259, ..., -0.52351283,\n",
       "         0.12174622, -1.12815215],\n",
       "       [-1.13215013, -1.02356739, -0.99125473, ..., -1.06433187,\n",
       "        -1.51676323, -1.12815215],\n",
       "       ...,\n",
       "       [-1.04200191, -0.85814918, -0.99125473, ..., -1.06433187,\n",
       "        -0.65613201, -1.12815215],\n",
       "       [-0.50111259, -0.85814918, -0.10462259, ...,  0.55812525,\n",
       "         0.10519562,  0.88640526],\n",
       "       [-1.31244657, -0.85814918, -1.87788687, ..., -2.14596996,\n",
       "        -0.95404281, -1.12815215]])"
      ]
     },
     "execution_count": 29,
     "metadata": {},
     "output_type": "execute_result"
    }
   ],
   "source": [
    "x_train"
   ]
  },
  {
   "cell_type": "code",
   "execution_count": 30,
   "id": "71b77f79",
   "metadata": {},
   "outputs": [
    {
     "data": {
      "text/plain": [
       "219    0.74\n",
       "391    0.71\n",
       "375    0.38\n",
       "19     0.62\n",
       "229    0.82\n",
       "       ... \n",
       "343    0.59\n",
       "359    0.81\n",
       "323    0.62\n",
       "280    0.68\n",
       "8      0.50\n",
       "Name: Chance of Admit, Length: 375, dtype: float64"
      ]
     },
     "execution_count": 30,
     "metadata": {},
     "output_type": "execute_result"
    }
   ],
   "source": [
    "y_train"
   ]
  },
  {
   "cell_type": "code",
   "execution_count": 31,
   "id": "588e00a7",
   "metadata": {},
   "outputs": [
    {
     "data": {
      "text/plain": [
       "array([[ 1.03140717e+00,  1.29228759e+00,  7.82009548e-01,\n",
       "         1.13735981e+00,  5.58125251e-01,  9.65826842e-01,\n",
       "         8.86405260e-01],\n",
       "       [-5.91260806e-01, -1.35440382e+00, -9.91254733e-01,\n",
       "        -1.89290612e+00, -1.60515091e+00, -2.11258485e+00,\n",
       "        -1.12815215e+00],\n",
       "       [-5.01112585e-01, -6.92730965e-01, -1.04622593e-01,\n",
       "        -1.38786180e+00,  5.58125251e-01, -8.05087410e-01,\n",
       "        -1.12815215e+00],\n",
       "       [-1.94348412e+00, -1.85065846e+00, -9.91254733e-01,\n",
       "        -1.89290612e+00, -1.60515091e+00, -2.04638245e+00,\n",
       "        -1.12815215e+00],\n",
       "       [ 4.90517846e-01,  4.65196526e-01, -1.04622593e-01,\n",
       "        -3.77773152e-01,  1.73062093e-02, -9.54042814e-01,\n",
       "        -1.12815215e+00],\n",
       "       [ 6.70814288e-01,  7.96032952e-01,  1.66864169e+00,\n",
       "         1.64240413e+00,  1.63976333e+00,  8.33422038e-01,\n",
       "         8.86405260e-01],\n",
       "       [-1.13215013e+00, -3.10581135e-02, -1.04622593e-01,\n",
       "         1.27271169e-01, -5.23512832e-01, -1.18575122e+00,\n",
       "        -1.12815215e+00],\n",
       "       [-5.03714802e-02, -1.96476326e-01, -9.91254733e-01,\n",
       "        -8.82817474e-01,  5.58125251e-01, -4.24423599e-01,\n",
       "        -1.12815215e+00],\n",
       "       [ 1.12155539e+00,  4.65196526e-01, -9.91254733e-01,\n",
       "         6.32315491e-01, -5.23512832e-01,  9.49276241e-01,\n",
       "         8.86405260e-01],\n",
       "       [-1.49274302e+00, -1.18898560e+00, -1.04622593e-01,\n",
       "        -1.38786180e+00, -5.23512832e-01,  1.38296818e-01,\n",
       "         8.86405260e-01],\n",
       "       [-5.01112585e-01, -1.96476326e-01, -9.91254733e-01,\n",
       "         1.27271169e-01, -5.23512832e-01, -5.23727202e-01,\n",
       "         8.86405260e-01],\n",
       "       [ 5.12433309e-15, -1.18898560e+00, -9.91254733e-01,\n",
       "        -1.89290612e+00,  1.73062093e-02, -1.11954882e+00,\n",
       "         8.86405260e-01],\n",
       "       [ 1.30185183e+00,  1.29228759e+00,  1.66864169e+00,\n",
       "         6.32315491e-01,  1.73062093e-02,  1.42924366e+00,\n",
       "         8.86405260e-01],\n",
       "       [ 1.39200006e+00,  7.96032952e-01, -1.87788687e+00,\n",
       "        -1.89290612e+00, -5.23512832e-01,  1.38296818e-01,\n",
       "         8.86405260e-01],\n",
       "       [-5.91260806e-01, -1.96476326e-01, -9.91254733e-01,\n",
       "         1.27271169e-01, -1.06433187e+00, -4.07872998e-01,\n",
       "        -1.12815215e+00],\n",
       "       [-1.31244657e+00, -1.35440382e+00, -1.04622593e-01,\n",
       "        -8.82817474e-01, -5.23512832e-01, -1.86432584e+00,\n",
       "        -1.12815215e+00],\n",
       "       [-6.81409027e-01, -1.96476326e-01, -9.91254733e-01,\n",
       "        -8.82817474e-01, -1.06433187e+00, -9.54042814e-01,\n",
       "        -1.12815215e+00],\n",
       "       [-4.10964364e-01, -1.96476326e-01, -1.04622593e-01,\n",
       "         6.32315491e-01,  1.73062093e-02,  3.53454624e-01,\n",
       "         8.86405260e-01],\n",
       "       [-1.40519701e-01, -6.92730965e-01, -1.87788687e+00,\n",
       "        -1.89290612e+00, -1.60515091e+00, -1.18575122e+00,\n",
       "        -1.12815215e+00],\n",
       "       [ 5.12433309e-15,  4.65196526e-01, -1.04622593e-01,\n",
       "         6.32315491e-01,  1.09894429e+00, -1.26512790e-01,\n",
       "        -1.12815215e+00],\n",
       "       [ 1.57229650e+00,  1.12686938e+00,  7.82009548e-01,\n",
       "         6.32315491e-01,  5.58125251e-01,  1.41269305e+00,\n",
       "         8.86405260e-01],\n",
       "       [-1.40519701e-01, -5.27312752e-01, -1.04622593e-01,\n",
       "         6.32315491e-01, -1.06433187e+00, -7.88536809e-01,\n",
       "        -1.12815215e+00],\n",
       "       [ 1.30185183e+00,  2.11937866e+00, -1.04622593e-01,\n",
       "         6.32315491e-01,  5.58125251e-01,  6.34814832e-01,\n",
       "         8.86405260e-01],\n",
       "       [ 9.41258951e-01,  1.34360100e-01,  1.66864169e+00,\n",
       "         1.64240413e+00,  1.73062093e-02,  9.16175040e-01,\n",
       "         8.86405260e-01],\n",
       "       [ 1.57229650e+00,  2.11937866e+00,  1.66864169e+00,\n",
       "         6.32315491e-01,  1.63976333e+00,  2.14091948e+00,\n",
       "         8.86405260e-01],\n",
       "       [ 3.97767408e-02, -6.92730965e-01, -9.91254733e-01,\n",
       "        -8.82817474e-01, -1.60515091e+00, -7.05783807e-01,\n",
       "        -1.12815215e+00],\n",
       "       [ 3.97767408e-02, -5.27312752e-01, -9.91254733e-01,\n",
       "         1.13735981e+00,  5.58125251e-01, -1.76164592e-01,\n",
       "        -1.12815215e+00],\n",
       "       [ 1.48214828e+00,  1.62312402e+00,  7.82009548e-01,\n",
       "         1.64240413e+00,  5.58125251e-01,  1.79335687e+00,\n",
       "         8.86405260e-01],\n",
       "       [ 1.21170361e+00,  9.61451165e-01,  1.66864169e+00,\n",
       "         1.64240413e+00,  5.58125251e-01,  1.21408585e+00,\n",
       "         8.86405260e-01],\n",
       "       [ 9.41258951e-01, -6.92730965e-01, -1.04622593e-01,\n",
       "         6.32315491e-01,  5.58125251e-01, -4.57524800e-01,\n",
       "         8.86405260e-01],\n",
       "       [ 3.10221404e-01,  6.30614739e-01, -1.04622593e-01,\n",
       "         1.13735981e+00,  1.73062093e-02,  4.85859428e-01,\n",
       "         8.86405260e-01],\n",
       "       [ 8.51110730e-01,  1.45770580e+00, -1.04622593e-01,\n",
       "         1.27271169e-01,  5.58125251e-01,  9.32725641e-01,\n",
       "         8.86405260e-01],\n",
       "       [ 2.20073183e-01, -6.92730965e-01, -1.04622593e-01,\n",
       "        -8.82817474e-01,  5.58125251e-01,  3.03802822e-01,\n",
       "         8.86405260e-01],\n",
       "       [-1.40519701e-01, -3.61894539e-01, -9.91254733e-01,\n",
       "        -1.38786180e+00, -1.06433187e+00, -1.53331383e+00,\n",
       "        -1.12815215e+00],\n",
       "       [ 4.90517846e-01,  4.65196526e-01, -1.04622593e-01,\n",
       "         1.27271169e-01, -1.06433187e+00,  1.54847418e-01,\n",
       "         8.86405260e-01],\n",
       "       [ 9.41258951e-01,  2.99778313e-01, -1.04622593e-01,\n",
       "         1.27271169e-01,  5.58125251e-01,  3.20353423e-01,\n",
       "         8.86405260e-01],\n",
       "       [ 4.90517846e-01,  7.96032952e-01,  7.82009548e-01,\n",
       "         1.27271169e-01, -1.06433187e+00,  7.34118435e-01,\n",
       "         8.86405260e-01],\n",
       "       [-5.01112585e-01, -1.35440382e+00, -9.91254733e-01,\n",
       "        -8.82817474e-01, -5.23512832e-01, -9.87144015e-01,\n",
       "        -1.12815215e+00],\n",
       "       [-1.49274302e+00, -3.61894539e-01, -1.87788687e+00,\n",
       "        -2.39795044e+00, -1.60515091e+00, -1.28505482e+00,\n",
       "        -1.12815215e+00],\n",
       "       [ 4.00369625e-01,  2.99778313e-01, -1.04622593e-01,\n",
       "        -3.77773152e-01,  5.58125251e-01, -6.23030805e-01,\n",
       "         8.86405260e-01],\n",
       "       [ 1.66244472e+00,  1.62312402e+00,  1.66864169e+00,\n",
       "         1.64240413e+00,  1.63976333e+00,  1.62785086e+00,\n",
       "         8.86405260e-01],\n",
       "       [-1.13215013e+00, -6.92730965e-01,  1.66864169e+00,\n",
       "         1.64240413e+00, -5.23512832e-01, -1.08644762e+00,\n",
       "        -1.12815215e+00],\n",
       "       [ 3.10221404e-01,  2.11937866e+00, -1.04622593e-01,\n",
       "         6.32315491e-01,  1.09894429e+00,  8.83073839e-01,\n",
       "        -1.12815215e+00],\n",
       "       [ 4.90517846e-01,  4.65196526e-01, -1.04622593e-01,\n",
       "         1.27271169e-01, -5.23512832e-01,  6.34814832e-01,\n",
       "         8.86405260e-01],\n",
       "       [ 4.00369625e-01,  6.30614739e-01,  7.82009548e-01,\n",
       "         6.32315491e-01,  5.58125251e-01,  6.51365433e-01,\n",
       "         8.86405260e-01],\n",
       "       [-1.31244657e+00, -1.35440382e+00, -9.91254733e-01,\n",
       "        -2.39795044e+00, -1.60515091e+00, -1.00369462e+00,\n",
       "        -1.12815215e+00],\n",
       "       [-8.61705469e-01, -3.61894539e-01,  7.82009548e-01,\n",
       "        -3.77773152e-01, -5.23512832e-01, -1.05334642e+00,\n",
       "        -1.12815215e+00],\n",
       "       [ 2.11318582e+00,  1.29228759e+00,  1.66864169e+00,\n",
       "         1.64240413e+00,  1.09894429e+00,  8.00320837e-01,\n",
       "         8.86405260e-01],\n",
       "       [ 9.41258951e-01,  1.78854223e+00,  7.82009548e-01,\n",
       "         1.64240413e+00,  1.63976333e+00,  1.80990747e+00,\n",
       "         8.86405260e-01],\n",
       "       [-3.20816143e-01, -1.02356739e+00, -1.04622593e-01,\n",
       "        -8.82817474e-01, -5.23512832e-01, -8.87840412e-01,\n",
       "        -1.12815215e+00],\n",
       "       [ 5.80666067e-01,  4.65196526e-01,  7.82009548e-01,\n",
       "         6.32315491e-01,  1.63976333e+00,  5.02410028e-01,\n",
       "         8.86405260e-01],\n",
       "       [ 3.10221404e-01, -5.27312752e-01, -1.04622593e-01,\n",
       "         1.27271169e-01,  1.09894429e+00, -3.91322398e-01,\n",
       "         8.86405260e-01],\n",
       "       [ 7.60962509e-01, -3.10581135e-02, -1.04622593e-01,\n",
       "        -3.77773152e-01,  1.73062093e-02,  8.83073839e-01,\n",
       "         8.86405260e-01],\n",
       "       [ 1.84274116e+00,  1.62312402e+00,  1.66864169e+00,\n",
       "         1.64240413e+00,  1.63976333e+00,  2.14091948e+00,\n",
       "         8.86405260e-01],\n",
       "       [-7.71557248e-01,  4.65196526e-01, -1.04622593e-01,\n",
       "         1.27271169e-01, -5.23512832e-01, -9.54042814e-01,\n",
       "         8.86405260e-01],\n",
       "       [ 8.51110730e-01,  6.30614739e-01,  1.66864169e+00,\n",
       "         1.13735981e+00,  5.58125251e-01,  1.08168105e+00,\n",
       "         8.86405260e-01],\n",
       "       [-9.51853690e-01, -6.92730965e-01, -1.04622593e-01,\n",
       "         1.27271169e-01, -5.23512832e-01, -6.06480204e-01,\n",
       "        -1.12815215e+00],\n",
       "       [ 1.39200006e+00,  1.95396044e+00,  7.82009548e-01,\n",
       "         1.64240413e+00,  1.09894429e+00,  1.09823165e+00,\n",
       "         8.86405260e-01],\n",
       "       [ 1.29924962e-01, -1.02356739e+00,  1.66864169e+00,\n",
       "         1.27271169e-01,  1.63976333e+00,  3.36904023e-01,\n",
       "         8.86405260e-01],\n",
       "       [-5.91260806e-01, -1.02356739e+00, -1.04622593e-01,\n",
       "         1.27271169e-01,  1.63976333e+00,  1.21746217e-01,\n",
       "         8.86405260e-01],\n",
       "       [-4.10964364e-01,  4.65196526e-01, -9.91254733e-01,\n",
       "         1.27271169e-01, -5.23512832e-01, -7.68609886e-02,\n",
       "        -1.12815215e+00],\n",
       "       [-5.01112585e-01, -3.61894539e-01, -9.91254733e-01,\n",
       "        -3.77773152e-01, -1.60515091e+00, -7.55435608e-01,\n",
       "         8.86405260e-01],\n",
       "       [-1.85333590e+00, -1.35440382e+00, -9.91254733e-01,\n",
       "        -3.77773152e-01,  1.73062093e-02, -2.14568605e+00,\n",
       "        -1.12815215e+00],\n",
       "       [ 1.30185183e+00,  1.29228759e+00,  1.66864169e+00,\n",
       "         1.13735981e+00,  1.73062093e-02,  1.29683885e+00,\n",
       "         8.86405260e-01],\n",
       "       [-7.71557248e-01, -1.96476326e-01, -1.04622593e-01,\n",
       "         1.27271169e-01, -1.06433187e+00, -6.06480204e-01,\n",
       "         8.86405260e-01],\n",
       "       [ 3.97767408e-02, -3.61894539e-01, -1.04622593e-01,\n",
       "         1.27271169e-01, -5.23512832e-01, -2.72091872e-02,\n",
       "        -1.12815215e+00],\n",
       "       [-8.61705469e-01, -3.10581135e-02, -9.91254733e-01,\n",
       "        -3.77773152e-01,  1.73062093e-02, -9.34115891e-02,\n",
       "         8.86405260e-01],\n",
       "       [-1.76318768e+00, -1.85065846e+00, -9.91254733e-01,\n",
       "        -8.82817474e-01, -1.60515091e+00, -1.89742704e+00,\n",
       "        -1.12815215e+00],\n",
       "       [ 9.41258951e-01,  9.61451165e-01,  7.82009548e-01,\n",
       "         1.13735981e+00,  1.63976333e+00,  9.32725641e-01,\n",
       "        -1.12815215e+00],\n",
       "       [ 6.70814288e-01,  6.30614739e-01,  1.66864169e+00,\n",
       "         1.13735981e+00,  5.58125251e-01,  9.65826842e-01,\n",
       "         8.86405260e-01],\n",
       "       [ 1.03140717e+00,  1.45770580e+00,  1.66864169e+00,\n",
       "         1.64240413e+00,  1.63976333e+00,  1.52854726e+00,\n",
       "         8.86405260e-01],\n",
       "       [ 7.60962509e-01,  4.65196526e-01,  7.82009548e-01,\n",
       "         1.27271169e-01,  5.58125251e-01,  1.54847418e-01,\n",
       "         8.86405260e-01],\n",
       "       [-5.01112585e-01, -1.35440382e+00, -1.87788687e+00,\n",
       "        -8.82817474e-01, -5.23512832e-01, -2.42366993e-01,\n",
       "         8.86405260e-01],\n",
       "       [ 1.39200006e+00,  1.62312402e+00,  7.82009548e-01,\n",
       "         1.13735981e+00,  5.58125251e-01,  8.66523239e-01,\n",
       "        -1.12815215e+00],\n",
       "       [ 1.29924962e-01, -1.96476326e-01, -9.91254733e-01,\n",
       "         6.32315491e-01,  5.58125251e-01, -1.08644762e+00,\n",
       "         8.86405260e-01],\n",
       "       [ 8.51110730e-01,  4.65196526e-01, -1.04622593e-01,\n",
       "         1.27271169e-01,  1.73062093e-02,  3.03802822e-01,\n",
       "         8.86405260e-01],\n",
       "       [-1.58289124e+00, -1.18898560e+00, -1.87788687e+00,\n",
       "        -1.89290612e+00, -1.60515091e+00, -1.13609942e+00,\n",
       "        -1.12815215e+00],\n",
       "       [ 6.70814288e-01,  6.30614739e-01, -1.04622593e-01,\n",
       "        -8.82817474e-01, -2.14596996e+00,  3.53454624e-01,\n",
       "         8.86405260e-01],\n",
       "       [ 5.12433309e-15,  1.95396044e+00,  1.66864169e+00,\n",
       "         1.64240413e+00,  1.09894429e+00,  1.85955927e+00,\n",
       "         8.86405260e-01],\n",
       "       [ 5.80666067e-01,  6.30614739e-01,  1.66864169e+00,\n",
       "         6.32315491e-01,  1.63976333e+00,  2.12436888e+00,\n",
       "         8.86405260e-01],\n",
       "       [-4.10964364e-01, -3.10581135e-02, -1.04622593e-01,\n",
       "        -3.77773152e-01, -1.60515091e+00, -1.11954882e+00,\n",
       "         8.86405260e-01],\n",
       "       [-1.31244657e+00, -8.58149178e-01, -1.04622593e-01,\n",
       "         1.27271169e-01,  1.63976333e+00, -4.07872998e-01,\n",
       "        -1.12815215e+00],\n",
       "       [ 7.60962509e-01,  1.12686938e+00,  1.66864169e+00,\n",
       "         6.32315491e-01,  1.63976333e+00,  1.46234486e+00,\n",
       "         8.86405260e-01],\n",
       "       [ 3.97767408e-02,  0.00000000e+00, -9.91254733e-01,\n",
       "        -1.38786180e+00,  1.73062093e-02, -7.55435608e-01,\n",
       "        -1.12815215e+00],\n",
       "       [ 4.90517846e-01,  0.00000000e+00,  7.82009548e-01,\n",
       "         1.13735981e+00,  1.09894429e+00,  1.13133285e+00,\n",
       "         8.86405260e-01],\n",
       "       [ 6.70814288e-01, -3.10581135e-02,  7.82009548e-01,\n",
       "         6.32315491e-01,  1.09894429e+00,  4.85859428e-01,\n",
       "         8.86405260e-01],\n",
       "       [-1.13215013e+00, -3.61894539e-01, -9.91254733e-01,\n",
       "        -3.77773152e-01, -5.23512832e-01, -6.23030805e-01,\n",
       "         8.86405260e-01],\n",
       "       [-7.71557248e-01, -1.02356739e+00, -9.91254733e-01,\n",
       "        -3.77773152e-01,  5.58125251e-01, -1.11954882e+00,\n",
       "        -1.12815215e+00],\n",
       "       [-4.10964364e-01, -6.92730965e-01, -1.04622593e-01,\n",
       "         1.64240413e+00,  5.58125251e-01, -2.09265793e-01,\n",
       "        -1.12815215e+00],\n",
       "       [-1.40259480e+00, -8.58149178e-01, -1.04622593e-01,\n",
       "        -8.82817474e-01, -1.60515091e+00, -7.38885008e-01,\n",
       "         8.86405260e-01],\n",
       "       [-6.81409027e-01,  1.34360100e-01, -1.04622593e-01,\n",
       "        -8.82817474e-01, -5.23512832e-01, -7.55435608e-01,\n",
       "        -1.12815215e+00],\n",
       "       [-1.40259480e+00, -1.18898560e+00, -1.04622593e-01,\n",
       "         1.27271169e-01, -5.23512832e-01, -8.87840412e-01,\n",
       "        -1.12815215e+00],\n",
       "       [-1.40519701e-01, -5.27312752e-01, -1.04622593e-01,\n",
       "        -3.77773152e-01, -1.06433187e+00, -4.07872998e-01,\n",
       "        -1.12815215e+00],\n",
       "       [ 1.57229650e+00,  1.95396044e+00,  1.66864169e+00,\n",
       "         1.13735981e+00,  1.63976333e+00,  1.59474966e+00,\n",
       "         8.86405260e-01],\n",
       "       [ 1.30185183e+00,  1.45770580e+00,  1.66864169e+00,\n",
       "         1.64240413e+00,  1.63976333e+00,  1.32994005e+00,\n",
       "         8.86405260e-01],\n",
       "       [ 2.20073183e-01, -3.61894539e-01,  7.82009548e-01,\n",
       "         6.32315491e-01,  1.09894429e+00,  1.38296818e-01,\n",
       "         8.86405260e-01],\n",
       "       [ 4.00369625e-01,  7.96032952e-01,  1.66864169e+00,\n",
       "         1.64240413e+00,  1.63976333e+00,  8.00320837e-01,\n",
       "         8.86405260e-01],\n",
       "       [ 8.51110730e-01,  1.34360100e-01, -1.04622593e-01,\n",
       "        -3.77773152e-01,  1.73062093e-02,  5.18960629e-01,\n",
       "        -1.12815215e+00],\n",
       "       [-5.03714802e-02, -8.58149178e-01, -1.04622593e-01,\n",
       "        -1.38786180e+00, -5.23512832e-01, -1.94707884e+00,\n",
       "        -1.12815215e+00],\n",
       "       [ 8.51110730e-01,  7.96032952e-01,  7.82009548e-01,\n",
       "         6.32315491e-01,  1.73062093e-02,  8.99624440e-01,\n",
       "         8.86405260e-01],\n",
       "       [-1.94348412e+00, -1.35440382e+00, -9.91254733e-01,\n",
       "        -8.82817474e-01, -5.23512832e-01, -1.53331383e+00,\n",
       "        -1.12815215e+00],\n",
       "       [-5.01112585e-01, -1.02356739e+00, -1.04622593e-01,\n",
       "        -1.38786180e+00, -1.06433187e+00, -1.54986443e+00,\n",
       "         8.86405260e-01],\n",
       "       [ 1.39200006e+00,  1.78854223e+00,  1.66864169e+00,\n",
       "         1.64240413e+00,  1.63976333e+00,  1.47889546e+00,\n",
       "         8.86405260e-01],\n",
       "       [-1.04200191e+00, -5.27312752e-01, -9.91254733e-01,\n",
       "        -8.82817474e-01, -2.14596996e+00, -1.30160542e+00,\n",
       "        -1.12815215e+00],\n",
       "       [ 3.10221404e-01, -6.92730965e-01, -1.04622593e-01,\n",
       "        -3.77773152e-01, -5.23512832e-01, -1.45056083e+00,\n",
       "        -1.12815215e+00],\n",
       "       [ 4.00369625e-01,  2.99778313e-01,  7.82009548e-01,\n",
       "         6.32315491e-01,  5.58125251e-01,  1.71398019e-01,\n",
       "         8.86405260e-01],\n",
       "       [-6.81409027e-01, -5.27312752e-01, -9.91254733e-01,\n",
       "        -1.38786180e+00, -1.06433187e+00, -5.23727202e-01,\n",
       "        -1.12815215e+00],\n",
       "       [ 1.29924962e-01,  4.65196526e-01, -1.04622593e-01,\n",
       "         6.32315491e-01, -5.23512832e-01,  3.70005224e-01,\n",
       "        -1.12815215e+00],\n",
       "       [-1.76318768e+00, -1.02356739e+00, -1.04622593e-01,\n",
       "        -1.38786180e+00,  5.58125251e-01, -1.50021263e+00,\n",
       "         8.86405260e-01],\n",
       "       [-8.61705469e-01, -1.02356739e+00, -1.04622593e-01,\n",
       "         6.32315491e-01, -5.23512832e-01, -6.23030805e-01,\n",
       "        -1.12815215e+00],\n",
       "       [-5.01112585e-01, -1.51982203e+00, -1.87788687e+00,\n",
       "        -2.39795044e+00, -1.06433187e+00, -1.84777524e+00,\n",
       "        -1.12815215e+00],\n",
       "       [ 1.12155539e+00,  9.61451165e-01,  7.82009548e-01,\n",
       "         6.32315491e-01,  1.73062093e-02,  1.29683885e+00,\n",
       "         8.86405260e-01],\n",
       "       [ 4.00369625e-01, -8.58149178e-01, -1.04622593e-01,\n",
       "         1.27271169e-01,  5.58125251e-01,  7.17567835e-01,\n",
       "         8.86405260e-01],\n",
       "       [ 8.51110730e-01,  1.12686938e+00,  7.82009548e-01,\n",
       "         6.32315491e-01,  1.73062093e-02,  9.65826842e-01,\n",
       "         8.86405260e-01],\n",
       "       [-6.81409027e-01, -3.61894539e-01,  7.82009548e-01,\n",
       "         1.27271169e-01, -1.60515091e+00, -6.56132006e-01,\n",
       "        -1.12815215e+00],\n",
       "       [-1.58289124e+00, -1.18898560e+00, -1.04622593e-01,\n",
       "        -1.38786180e+00, -1.60515091e+00, -9.20941613e-01,\n",
       "        -1.12815215e+00],\n",
       "       [ 1.29924962e-01, -1.18898560e+00, -9.91254733e-01,\n",
       "        -8.82817474e-01,  1.73062093e-02, -6.03103882e-02,\n",
       "         8.86405260e-01],\n",
       "       [-1.85333590e+00, -1.35440382e+00, -9.91254733e-01,\n",
       "        -8.82817474e-01, -1.06433187e+00, -9.04391013e-01,\n",
       "        -1.12815215e+00],\n",
       "       [-1.22229835e+00, -1.51982203e+00, -1.87788687e+00,\n",
       "        -1.38786180e+00, -1.06433187e+00, -1.53331383e+00,\n",
       "        -1.12815215e+00],\n",
       "       [-4.10964364e-01, -3.61894539e-01, -9.91254733e-01,\n",
       "        -1.38786180e+00, -1.06433187e+00, -2.09265793e-01,\n",
       "        -1.12815215e+00],\n",
       "       [ 1.12155539e+00,  1.12686938e+00,  1.66864169e+00,\n",
       "         6.32315491e-01,  1.63976333e+00,  1.19753525e+00,\n",
       "         8.86405260e-01],\n",
       "       [-3.20816143e-01, -1.51982203e+00, -1.04622593e-01,\n",
       "        -8.82817474e-01,  1.09894429e+00, -4.57524800e-01,\n",
       "         8.86405260e-01],\n",
       "       [-1.85333590e+00, -2.01607667e+00, -9.91254733e-01,\n",
       "        -3.77773152e-01, -1.60515091e+00, -1.71537044e+00,\n",
       "         8.86405260e-01],\n",
       "       [-3.20816143e-01, -1.96476326e-01, -9.91254733e-01,\n",
       "        -8.82817474e-01, -1.60515091e+00, -2.42366993e-01,\n",
       "        -1.12815215e+00],\n",
       "       [ 1.29924962e-01, -6.92730965e-01, -1.04622593e-01,\n",
       "         6.32315491e-01,  1.09894429e+00, -1.43063391e-01,\n",
       "         8.86405260e-01]])"
      ]
     },
     "execution_count": 31,
     "metadata": {},
     "output_type": "execute_result"
    }
   ],
   "source": [
    "x_test"
   ]
  },
  {
   "cell_type": "code",
   "execution_count": 32,
   "id": "32289e86",
   "metadata": {},
   "outputs": [
    {
     "data": {
      "text/plain": [
       "69     0.78\n",
       "29     0.54\n",
       "471    0.64\n",
       "344    0.47\n",
       "54     0.70\n",
       "       ... \n",
       "46     0.86\n",
       "50     0.76\n",
       "78     0.44\n",
       "304    0.62\n",
       "478    0.71\n",
       "Name: Chance of Admit, Length: 125, dtype: float64"
      ]
     },
     "execution_count": 32,
     "metadata": {},
     "output_type": "execute_result"
    }
   ],
   "source": [
    "y_test"
   ]
  },
  {
   "cell_type": "code",
   "execution_count": 33,
   "id": "7086bbb0",
   "metadata": {},
   "outputs": [],
   "source": [
    "y_pred = model.predict(x_test)"
   ]
  },
  {
   "cell_type": "code",
   "execution_count": 34,
   "id": "1d15fbe1",
   "metadata": {},
   "outputs": [
    {
     "data": {
      "text/plain": [
       "array([0.86069475, 0.46961675, 0.62457559, 0.44427341, 0.64477075,\n",
       "       0.85868392, 0.58505459, 0.66825273, 0.81854538, 0.68171621,\n",
       "       0.66695132, 0.6130498 , 0.89289851, 0.75587611, 0.63710169,\n",
       "       0.50210475, 0.59088702, 0.74925169, 0.55648151, 0.7216039 ,\n",
       "       0.89836979, 0.61372014, 0.85046029, 0.82931438, 0.99434179,\n",
       "       0.60241927, 0.68864148, 0.93864892, 0.88106392, 0.7079722 ,\n",
       "       0.7878777 , 0.85197209, 0.75005243, 0.55035253, 0.7409322 ,\n",
       "       0.7846006 , 0.79476912, 0.57813961, 0.53270814, 0.70273382,\n",
       "       0.95035571, 0.59153554, 0.83491267, 0.7865929 , 0.81274368,\n",
       "       0.54137961, 0.59479607, 0.87886605, 0.95285581, 0.59818408,\n",
       "       0.81918166, 0.71389373, 0.80771306, 0.99224991, 0.64596821,\n",
       "       0.85748512, 0.61937012, 0.89966459, 0.77296661, 0.7386618 ,\n",
       "       0.68682328, 0.62638119, 0.47959271, 0.88440311, 0.65075526,\n",
       "       0.68517479, 0.70480878, 0.46160814, 0.84041637, 0.84586557,\n",
       "       0.9298679 , 0.77572697, 0.65973664, 0.83681099, 0.65357904,\n",
       "       0.77602172, 0.52848201, 0.74066514, 0.93952899, 0.94933344,\n",
       "       0.60971051, 0.66208776, 0.91113345, 0.63749229, 0.84936338,\n",
       "       0.80076777, 0.64486736, 0.58992992, 0.68095918, 0.60600511,\n",
       "       0.62478954, 0.58148364, 0.63954106, 0.95115418, 0.91891473,\n",
       "       0.76099163, 0.85197688, 0.75630593, 0.52319578, 0.83271623,\n",
       "       0.51419645, 0.5624681 , 0.93797467, 0.53434795, 0.57296638,\n",
       "       0.76984958, 0.61577619, 0.73422088, 0.57396284, 0.61478732,\n",
       "       0.49214699, 0.87033115, 0.78441416, 0.84407423, 0.61129866,\n",
       "       0.55322522, 0.69898464, 0.55444723, 0.50814898, 0.6470839 ,\n",
       "       0.89652922, 0.67695596, 0.50073554, 0.64162917, 0.72846599])"
      ]
     },
     "execution_count": 34,
     "metadata": {},
     "output_type": "execute_result"
    }
   ],
   "source": [
    "y_pred\n"
   ]
  },
  {
   "cell_type": "code",
   "execution_count": 35,
   "id": "b598c057",
   "metadata": {},
   "outputs": [
    {
     "data": {
      "text/plain": [
       "<matplotlib.collections.PathCollection at 0x253498a8a60>"
      ]
     },
     "execution_count": 35,
     "metadata": {},
     "output_type": "execute_result"
    },
    {
     "data": {
      "image/png": "[encoded data removed]",
      "text/plain": [
       "<Figure size 432x288 with 1 Axes>"
      ]
     },
     "metadata": {
      "needs_background": "light"
     },
     "output_type": "display_data"
    }
   ],
   "source": [
    "plt.scatter(y_test,y_pred)"
   ]
  },
  {
   "cell_type": "code",
   "execution_count": 36,
   "id": "a48972bf",
   "metadata": {},
   "outputs": [],
   "source": [
    "mas = mean_absolute_error(y_test,y_pred)"
   ]
  },
  {
   "cell_type": "code",
   "execution_count": 37,
   "id": "8b9bbbc7",
   "metadata": {},
   "outputs": [],
   "source": [
    "mse = mean_squared_error(y_test,y_pred)"
   ]
  },
  {
   "cell_type": "code",
   "execution_count": 38,
   "id": "203c0d8c",
   "metadata": {},
   "outputs": [],
   "source": [
    "rmse = np.sqrt(mse)"
   ]
  },
  {
   "cell_type": "code",
   "execution_count": 39,
   "id": "d03ea0ec",
   "metadata": {},
   "outputs": [
    {
     "name": "stdout",
     "output_type": "stream",
     "text": [
      "0.045778397291140555 0.003402884216930174 0.05833424566179093\n"
     ]
    }
   ],
   "source": [
    "print(mas,mse,rmse)"
   ]
  },
  {
   "cell_type": "code",
   "execution_count": 40,
   "id": "fa1c0ae6",
   "metadata": {},
   "outputs": [],
   "source": [
    "import pickle\n",
    "\n",
    "pickle.dump(model,open('admin.pickle','wb'))"
   ]
  },
  {
   "cell_type": "code",
   "execution_count": 41,
   "id": "4d52b5fa",
   "metadata": {},
   "outputs": [],
   "source": [
    "load_model = pickle.load(open('admin.pickle','rb'))\n",
    "b = load_model.predict(x_test)"
   ]
  },
  {
   "cell_type": "code",
   "execution_count": 42,
   "id": "7e18d5f2",
   "metadata": {},
   "outputs": [
    {
     "data": {
      "text/plain": [
       "array([0.86069475, 0.46961675, 0.62457559, 0.44427341, 0.64477075,\n",
       "       0.85868392, 0.58505459, 0.66825273, 0.81854538, 0.68171621,\n",
       "       0.66695132, 0.6130498 , 0.89289851, 0.75587611, 0.63710169,\n",
       "       0.50210475, 0.59088702, 0.74925169, 0.55648151, 0.7216039 ,\n",
       "       0.89836979, 0.61372014, 0.85046029, 0.82931438, 0.99434179,\n",
       "       0.60241927, 0.68864148, 0.93864892, 0.88106392, 0.7079722 ,\n",
       "       0.7878777 , 0.85197209, 0.75005243, 0.55035253, 0.7409322 ,\n",
       "       0.7846006 , 0.79476912, 0.57813961, 0.53270814, 0.70273382,\n",
       "       0.95035571, 0.59153554, 0.83491267, 0.7865929 , 0.81274368,\n",
       "       0.54137961, 0.59479607, 0.87886605, 0.95285581, 0.59818408,\n",
       "       0.81918166, 0.71389373, 0.80771306, 0.99224991, 0.64596821,\n",
       "       0.85748512, 0.61937012, 0.89966459, 0.77296661, 0.7386618 ,\n",
       "       0.68682328, 0.62638119, 0.47959271, 0.88440311, 0.65075526,\n",
       "       0.68517479, 0.70480878, 0.46160814, 0.84041637, 0.84586557,\n",
       "       0.9298679 , 0.77572697, 0.65973664, 0.83681099, 0.65357904,\n",
       "       0.77602172, 0.52848201, 0.74066514, 0.93952899, 0.94933344,\n",
       "       0.60971051, 0.66208776, 0.91113345, 0.63749229, 0.84936338,\n",
       "       0.80076777, 0.64486736, 0.58992992, 0.68095918, 0.60600511,\n",
       "       0.62478954, 0.58148364, 0.63954106, 0.95115418, 0.91891473,\n",
       "       0.76099163, 0.85197688, 0.75630593, 0.52319578, 0.83271623,\n",
       "       0.51419645, 0.5624681 , 0.93797467, 0.53434795, 0.57296638,\n",
       "       0.76984958, 0.61577619, 0.73422088, 0.57396284, 0.61478732,\n",
       "       0.49214699, 0.87033115, 0.78441416, 0.84407423, 0.61129866,\n",
       "       0.55322522, 0.69898464, 0.55444723, 0.50814898, 0.6470839 ,\n",
       "       0.89652922, 0.67695596, 0.50073554, 0.64162917, 0.72846599])"
      ]
     },
     "execution_count": 42,
     "metadata": {},
     "output_type": "execute_result"
    }
   ],
   "source": [
    "b"
   ]
  },
  {
   "cell_type": "code",
   "execution_count": 45,
   "id": "c5843e1d",
   "metadata": {},
   "outputs": [],
   "source": [
    "from sklearn.linear_model import LassoCV,Lasso,RidgeCV,Ridge"
   ]
  },
  {
   "cell_type": "code",
   "execution_count": 46,
   "id": "84000191",
   "metadata": {},
   "outputs": [],
   "source": [
    "lcv = LassoCV(alphas=None,max_iter=100,normalize=True)"
   ]
  },
  {
   "cell_type": "code",
   "execution_count": 49,
   "id": "7f8ed7db",
   "metadata": {},
   "outputs": [],
   "source": [
    "lcva = lcv.fit(x_train,y_train)"
   ]
  },
  {
   "cell_type": "code",
   "execution_count": 50,
   "id": "5156558d",
   "metadata": {},
   "outputs": [],
   "source": [
    "alpha = lcva.alpha_"
   ]
  },
  {
   "cell_type": "code",
   "execution_count": 51,
   "id": "20c6cfaa",
   "metadata": {},
   "outputs": [],
   "source": [
    "lasso_reg = Lasso(alpha)"
   ]
  },
  {
   "cell_type": "code",
   "execution_count": 52,
   "id": "a6888f68",
   "metadata": {},
   "outputs": [
    {
     "data": {
      "text/plain": [
       "Lasso(alpha=2.7745719225519347e-05)"
      ]
     },
     "execution_count": 52,
     "metadata": {},
     "output_type": "execute_result"
    }
   ],
   "source": [
    "lasso_reg.fit(x_train,y_train)"
   ]
  },
  {
   "cell_type": "code",
   "execution_count": 53,
   "id": "fe976e34",
   "metadata": {},
   "outputs": [
    {
     "data": {
      "text/plain": [
       "0.8263177676395763"
      ]
     },
     "execution_count": 53,
     "metadata": {},
     "output_type": "execute_result"
    }
   ],
   "source": [
    "lasso_reg.score(x_test,y_test)"
   ]
  },
  {
   "cell_type": "code",
   "execution_count": 56,
   "id": "8fd4d8f0",
   "metadata": {},
   "outputs": [],
   "source": [
    "rcv = RidgeCV(alphas=np.arange(0.001,0.1,0.01),normalize=True)"
   ]
  },
  {
   "cell_type": "code",
   "execution_count": 57,
   "id": "aa5048eb",
   "metadata": {},
   "outputs": [
    {
     "data": {
      "text/plain": [
       "RidgeCV(alphas=array([0.001, 0.011, 0.021, 0.031, 0.041, 0.051, 0.061, 0.071, 0.081,\n",
       "       0.091]),\n",
       "        normalize=True)"
      ]
     },
     "execution_count": 57,
     "metadata": {},
     "output_type": "execute_result"
    }
   ],
   "source": [
    "rcv.fit(x_train,y_train)"
   ]
  },
  {
   "cell_type": "code",
   "execution_count": 59,
   "id": "4949eb4a",
   "metadata": {},
   "outputs": [],
   "source": [
    "alphar = rcv.alpha_"
   ]
  },
  {
   "cell_type": "code",
   "execution_count": 60,
   "id": "b1e786d8",
   "metadata": {},
   "outputs": [],
   "source": [
    "ri_re = Ridge(alphar)"
   ]
  },
  {
   "cell_type": "code",
   "execution_count": 61,
   "id": "3259abfd",
   "metadata": {},
   "outputs": [
    {
     "data": {
      "text/plain": [
       "Ridge(alpha=0.011)"
      ]
     },
     "execution_count": 61,
     "metadata": {},
     "output_type": "execute_result"
    }
   ],
   "source": [
    "ri_re.fit(x_train,y_train)"
   ]
  },
  {
   "cell_type": "code",
   "execution_count": 62,
   "id": "8d08a026",
   "metadata": {},
   "outputs": [
    {
     "data": {
      "text/plain": [
       "0.8262843148544313"
      ]
     },
     "execution_count": 62,
     "metadata": {},
     "output_type": "execute_result"
    }
   ],
   "source": [
    "ri_re.score(x_test,y_test)"
   ]
  },
  {
   "cell_type": "code",
   "execution_count": null,
   "id": "0517b64a",
   "metadata": {},
   "outputs": [],
   "source": [
    "# we dont have any case of overfitting"
   ]
  },
  {
   "cell_type": "code",
   "execution_count": null,
   "id": "26a24dc2",
   "metadata": {},
   "outputs": [],
   "source": []
  }
 ],
 "metadata": {
  "kernelspec": {
   "display_name": "Python 3 (ipykernel)",
   "language": "python",
   "name": "python3"
  },
  "language_info": {
   "codemirror_mode": {
    "name": "ipython",
    "version": 3
   },
   "file_extension": ".py",
   "mimetype": "text/x-python",
   "name": "python",
   "nbconvert_exporter": "python",
   "pygments_lexer": "ipython3",
   "version": "3.9.7"
  }
 },
 "nbformat": 4,
 "nbformat_minor": 5
}
